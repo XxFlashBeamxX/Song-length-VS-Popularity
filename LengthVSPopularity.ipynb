{
 "cells": [
  {
   "cell_type": "markdown",
   "id": "7d233061-fff3-4ce2-82ce-affb962041fc",
   "metadata": {},
   "source": [
    "# Spotify Hip-Hop Artist Comparison:\n",
    "In this project, **I will be determining whether song length affects its popularity** between two similar hip-hop artists, Lil Uzi Vert and Travis Scott, who both have a heavy use in auto tune for their feel-good music as well as a large following."
   ]
  },
  {
   "cell_type": "markdown",
   "id": "8333f061-cd72-4765-8f6e-db6c3078f644",
   "metadata": {},
   "source": [
    "**Null hypothesis**: Song length does not affect popularity.\n",
    "\n",
    "**Alternative hypothesis**: Song length has an affect on popularity."
   ]
  },
  {
   "cell_type": "code",
   "execution_count": 6,
   "id": "c0590c43-e2d1-48bb-8ac9-012822918185",
   "metadata": {},
   "outputs": [
    {
     "data": {
      "text/html": [
       "<div>\n",
       "<style scoped>\n",
       "    .dataframe tbody tr th:only-of-type {\n",
       "        vertical-align: middle;\n",
       "    }\n",
       "\n",
       "    .dataframe tbody tr th {\n",
       "        vertical-align: top;\n",
       "    }\n",
       "\n",
       "    .dataframe thead th {\n",
       "        text-align: right;\n",
       "    }\n",
       "</style>\n",
       "<table border=\"1\" class=\"dataframe\">\n",
       "  <thead>\n",
       "    <tr style=\"text-align: right;\">\n",
       "      <th></th>\n",
       "      <th>Artist</th>\n",
       "      <th>Track Name</th>\n",
       "      <th>Popularity</th>\n",
       "      <th>Duration (ms)</th>\n",
       "      <th>Track ID</th>\n",
       "    </tr>\n",
       "  </thead>\n",
       "  <tbody>\n",
       "    <tr>\n",
       "      <th>0</th>\n",
       "      <td>Drake</td>\n",
       "      <td>Rich Baby Daddy (feat. Sexyy Red &amp; SZA)</td>\n",
       "      <td>92</td>\n",
       "      <td>319191</td>\n",
       "      <td>1yeB8MUNeLo9Ek1UEpsyz6</td>\n",
       "    </tr>\n",
       "    <tr>\n",
       "      <th>1</th>\n",
       "      <td>Drake</td>\n",
       "      <td>One Dance</td>\n",
       "      <td>91</td>\n",
       "      <td>173986</td>\n",
       "      <td>1zi7xx7UVEFkmKfv06H8x0</td>\n",
       "    </tr>\n",
       "    <tr>\n",
       "      <th>2</th>\n",
       "      <td>Drake</td>\n",
       "      <td>IDGAF (feat. Yeat)</td>\n",
       "      <td>90</td>\n",
       "      <td>260111</td>\n",
       "      <td>2YSzYUF3jWqb9YP9VXmpjE</td>\n",
       "    </tr>\n",
       "    <tr>\n",
       "      <th>3</th>\n",
       "      <td>Drake</td>\n",
       "      <td>First Person Shooter (feat. J. Cole)</td>\n",
       "      <td>88</td>\n",
       "      <td>247444</td>\n",
       "      <td>7aqfrAY2p9BUSiupwk3svU</td>\n",
       "    </tr>\n",
       "    <tr>\n",
       "      <th>4</th>\n",
       "      <td>Drake</td>\n",
       "      <td>Jimmy Cooks (feat. 21 Savage)</td>\n",
       "      <td>88</td>\n",
       "      <td>218364</td>\n",
       "      <td>3F5CgOj3wFlRv51JsHbxhe</td>\n",
       "    </tr>\n",
       "  </tbody>\n",
       "</table>\n",
       "</div>"
      ],
      "text/plain": [
       "  Artist                               Track Name  Popularity  Duration (ms)  \\\n",
       "0  Drake  Rich Baby Daddy (feat. Sexyy Red & SZA)          92         319191   \n",
       "1  Drake                                One Dance          91         173986   \n",
       "2  Drake                       IDGAF (feat. Yeat)          90         260111   \n",
       "3  Drake     First Person Shooter (feat. J. Cole)          88         247444   \n",
       "4  Drake            Jimmy Cooks (feat. 21 Savage)          88         218364   \n",
       "\n",
       "                 Track ID  \n",
       "0  1yeB8MUNeLo9Ek1UEpsyz6  \n",
       "1  1zi7xx7UVEFkmKfv06H8x0  \n",
       "2  2YSzYUF3jWqb9YP9VXmpjE  \n",
       "3  7aqfrAY2p9BUSiupwk3svU  \n",
       "4  3F5CgOj3wFlRv51JsHbxhe  "
      ]
     },
     "execution_count": 6,
     "metadata": {},
     "output_type": "execute_result"
    }
   ],
   "source": [
    "import pandas as pd\n",
    "import matplotlib.pyplot as plt\n",
    "import seaborn as sns\n",
    "import numpy as np\n",
    "from scipy import stats\n",
    "sns.set(style='whitegrid')\n",
    "df = pd.read_csv('CSV_Files/top_hiphop_artists_tracks.csv') \n",
    "df.head()"
   ]
  },
  {
   "cell_type": "markdown",
   "id": "9f0dd0a6-6725-48b7-95c2-742680f9efe9",
   "metadata": {},
   "source": [
    "This is the data I will be using throughout the project."
   ]
  },
  {
   "cell_type": "code",
   "execution_count": 7,
   "id": "a676363f-ce6e-4156-9de6-816e45623bd1",
   "metadata": {},
   "outputs": [
    {
     "data": {
      "text/html": [
       "<div>\n",
       "<style scoped>\n",
       "    .dataframe tbody tr th:only-of-type {\n",
       "        vertical-align: middle;\n",
       "    }\n",
       "\n",
       "    .dataframe tbody tr th {\n",
       "        vertical-align: top;\n",
       "    }\n",
       "\n",
       "    .dataframe thead th {\n",
       "        text-align: right;\n",
       "    }\n",
       "</style>\n",
       "<table border=\"1\" class=\"dataframe\">\n",
       "  <thead>\n",
       "    <tr style=\"text-align: right;\">\n",
       "      <th></th>\n",
       "      <th>Artist</th>\n",
       "      <th>Track Name</th>\n",
       "      <th>Popularity</th>\n",
       "      <th>Duration (ms)</th>\n",
       "      <th>Track ID</th>\n",
       "    </tr>\n",
       "  </thead>\n",
       "  <tbody>\n",
       "    <tr>\n",
       "      <th>7</th>\n",
       "      <td>Travis Scott</td>\n",
       "      <td>MELTDOWN (feat. Drake)</td>\n",
       "      <td>86</td>\n",
       "      <td>246133</td>\n",
       "      <td>67nepsnrcZkowTxMWigSbb</td>\n",
       "    </tr>\n",
       "    <tr>\n",
       "      <th>30</th>\n",
       "      <td>Travis Scott</td>\n",
       "      <td>FE!N (feat. Playboi Carti)</td>\n",
       "      <td>93</td>\n",
       "      <td>191700</td>\n",
       "      <td>42VsgItocQwOQC3XWZ8JNA</td>\n",
       "    </tr>\n",
       "    <tr>\n",
       "      <th>31</th>\n",
       "      <td>Travis Scott</td>\n",
       "      <td>I KNOW ?</td>\n",
       "      <td>92</td>\n",
       "      <td>211582</td>\n",
       "      <td>6wsqVwoiVH2kde4k4KKAFU</td>\n",
       "    </tr>\n",
       "    <tr>\n",
       "      <th>32</th>\n",
       "      <td>Travis Scott</td>\n",
       "      <td>MY EYES</td>\n",
       "      <td>91</td>\n",
       "      <td>251249</td>\n",
       "      <td>4kjI1gwQZRKNDkw1nI475M</td>\n",
       "    </tr>\n",
       "    <tr>\n",
       "      <th>33</th>\n",
       "      <td>Travis Scott</td>\n",
       "      <td>goosebumps</td>\n",
       "      <td>89</td>\n",
       "      <td>243836</td>\n",
       "      <td>6gBFPUFcJLzWGx4lenP6h2</td>\n",
       "    </tr>\n",
       "  </tbody>\n",
       "</table>\n",
       "</div>"
      ],
      "text/plain": [
       "          Artist                  Track Name  Popularity  Duration (ms)  \\\n",
       "7   Travis Scott      MELTDOWN (feat. Drake)          86         246133   \n",
       "30  Travis Scott  FE!N (feat. Playboi Carti)          93         191700   \n",
       "31  Travis Scott                    I KNOW ?          92         211582   \n",
       "32  Travis Scott                     MY EYES          91         251249   \n",
       "33  Travis Scott                  goosebumps          89         243836   \n",
       "\n",
       "                  Track ID  \n",
       "7   67nepsnrcZkowTxMWigSbb  \n",
       "30  42VsgItocQwOQC3XWZ8JNA  \n",
       "31  6wsqVwoiVH2kde4k4KKAFU  \n",
       "32  4kjI1gwQZRKNDkw1nI475M  \n",
       "33  6gBFPUFcJLzWGx4lenP6h2  "
      ]
     },
     "execution_count": 7,
     "metadata": {},
     "output_type": "execute_result"
    }
   ],
   "source": [
    "artists_to_compare = ['Lil Uzi Vert', 'Travis Scott']\n",
    "filtered = df[df['Artist'].isin(artists_to_compare)]\n",
    "filtered['Artist'].value_counts() # Checking to see if I have the two artists in the filtered data set.\n",
    "Uzi_v_Travis = filtered\n",
    "Uzi_v_Travis.head()"
   ]
  },
  {
   "cell_type": "markdown",
   "id": "580a3188-1f31-4b7d-9498-816c679b9b9a",
   "metadata": {},
   "source": [
    "Travis Scott is very present at the top, so I'm going to use .tail() to check if Lil Uzi Vert is in the data too."
   ]
  },
  {
   "cell_type": "code",
   "execution_count": 8,
   "id": "02030142-5833-4b12-8d61-74a145a4badd",
   "metadata": {},
   "outputs": [
    {
     "data": {
      "text/html": [
       "<div>\n",
       "<style scoped>\n",
       "    .dataframe tbody tr th:only-of-type {\n",
       "        vertical-align: middle;\n",
       "    }\n",
       "\n",
       "    .dataframe tbody tr th {\n",
       "        vertical-align: top;\n",
       "    }\n",
       "\n",
       "    .dataframe thead th {\n",
       "        text-align: right;\n",
       "    }\n",
       "</style>\n",
       "<table border=\"1\" class=\"dataframe\">\n",
       "  <thead>\n",
       "    <tr style=\"text-align: right;\">\n",
       "      <th></th>\n",
       "      <th>Artist</th>\n",
       "      <th>Track Name</th>\n",
       "      <th>Popularity</th>\n",
       "      <th>Duration (ms)</th>\n",
       "      <th>Track ID</th>\n",
       "    </tr>\n",
       "  </thead>\n",
       "  <tbody>\n",
       "    <tr>\n",
       "      <th>335</th>\n",
       "      <td>Lil Uzi Vert</td>\n",
       "      <td>Watch This - ARIZONATEARS Pluggnb Remix</td>\n",
       "      <td>82</td>\n",
       "      <td>163139</td>\n",
       "      <td>0FA4wrjDJvJTTU8AepZTup</td>\n",
       "    </tr>\n",
       "    <tr>\n",
       "      <th>336</th>\n",
       "      <td>Lil Uzi Vert</td>\n",
       "      <td>The Way Life Goes (feat. Oh Wonder)</td>\n",
       "      <td>81</td>\n",
       "      <td>221746</td>\n",
       "      <td>2eAZfqOm4EnOF9VvN50Tyc</td>\n",
       "    </tr>\n",
       "    <tr>\n",
       "      <th>337</th>\n",
       "      <td>Lil Uzi Vert</td>\n",
       "      <td>Flooded The Face</td>\n",
       "      <td>76</td>\n",
       "      <td>192727</td>\n",
       "      <td>4daEMLSZCgZ2Mt7gNm2SRa</td>\n",
       "    </tr>\n",
       "    <tr>\n",
       "      <th>338</th>\n",
       "      <td>Lil Uzi Vert</td>\n",
       "      <td>Money Longer</td>\n",
       "      <td>75</td>\n",
       "      <td>198944</td>\n",
       "      <td>0B8QzDH7YWih85V5SEMnyJ</td>\n",
       "    </tr>\n",
       "    <tr>\n",
       "      <th>339</th>\n",
       "      <td>Lil Uzi Vert</td>\n",
       "      <td>Erase Your Social</td>\n",
       "      <td>75</td>\n",
       "      <td>199993</td>\n",
       "      <td>4uhvMW7ly7tJil31YYscAN</td>\n",
       "    </tr>\n",
       "  </tbody>\n",
       "</table>\n",
       "</div>"
      ],
      "text/plain": [
       "           Artist                               Track Name  Popularity  \\\n",
       "335  Lil Uzi Vert  Watch This - ARIZONATEARS Pluggnb Remix          82   \n",
       "336  Lil Uzi Vert      The Way Life Goes (feat. Oh Wonder)          81   \n",
       "337  Lil Uzi Vert                         Flooded The Face          76   \n",
       "338  Lil Uzi Vert                             Money Longer          75   \n",
       "339  Lil Uzi Vert                        Erase Your Social          75   \n",
       "\n",
       "     Duration (ms)                Track ID  \n",
       "335         163139  0FA4wrjDJvJTTU8AepZTup  \n",
       "336         221746  2eAZfqOm4EnOF9VvN50Tyc  \n",
       "337         192727  4daEMLSZCgZ2Mt7gNm2SRa  \n",
       "338         198944  0B8QzDH7YWih85V5SEMnyJ  \n",
       "339         199993  4uhvMW7ly7tJil31YYscAN  "
      ]
     },
     "execution_count": 8,
     "metadata": {},
     "output_type": "execute_result"
    }
   ],
   "source": [
    "Uzi_v_Travis.tail() "
   ]
  },
  {
   "cell_type": "markdown",
   "id": "67892117-63ef-4a75-939f-86591fd17523",
   "metadata": {},
   "source": [
    "# Average song lengths:\n",
    "First, I'm going to check the average length time between both artists by querying."
   ]
  },
  {
   "cell_type": "code",
   "execution_count": 9,
   "id": "64464e48-f2f3-4824-899f-70ea7d0432df",
   "metadata": {},
   "outputs": [
    {
     "data": {
      "text/plain": [
       "187966.375"
      ]
     },
     "execution_count": 9,
     "metadata": {},
     "output_type": "execute_result"
    }
   ],
   "source": [
    "Uzi_Only = Uzi_v_Travis[Uzi_v_Travis['Artist'] == 'Lil Uzi Vert']\n",
    "Uzi_Duration = Uzi_Only['Duration (ms)'].mean() \n",
    "Uzi_Duration"
   ]
  },
  {
   "cell_type": "code",
   "execution_count": 10,
   "id": "89c0f644-97f4-4c74-a9ae-37129fd86481",
   "metadata": {},
   "outputs": [
    {
     "data": {
      "text/plain": [
       "269007.9166666667"
      ]
     },
     "execution_count": 10,
     "metadata": {},
     "output_type": "execute_result"
    }
   ],
   "source": [
    "Travis_Only = Uzi_v_Travis[Uzi_v_Travis['Artist'] == 'Travis Scott']\n",
    "Travis_Duration = Travis_Only['Duration (ms)'].mean()\n",
    "Travis_Duration"
   ]
  },
  {
   "cell_type": "markdown",
   "id": "68f08177-2207-4daf-959e-b3cd1ba1a5f2",
   "metadata": {},
   "source": [
    "Travis Scott's music is longer on average compared to Lil Uzi Vert's, the difference being 81041.5416667 milliseconds. However, for better readability, I'll convert it to seconds."
   ]
  },
  {
   "cell_type": "code",
   "execution_count": 11,
   "id": "78e43f86-d680-4c7d-bc39-00ca0f78ab32",
   "metadata": {},
   "outputs": [
    {
     "data": {
      "text/plain": [
       "81.0415416667"
      ]
     },
     "execution_count": 11,
     "metadata": {},
     "output_type": "execute_result"
    }
   ],
   "source": [
    "81041.5416667 / 1000"
   ]
  },
  {
   "cell_type": "markdown",
   "id": "641bfa8d-cfcc-4935-a551-9b0f99480f07",
   "metadata": {},
   "source": [
    "We have 81.0415416667 seconds. Dividing that by 60 (With a remainder) gives:"
   ]
  },
  {
   "cell_type": "code",
   "execution_count": 12,
   "id": "baa72a07-3ee6-4e87-9562-64de24c1194f",
   "metadata": {},
   "outputs": [
    {
     "data": {
      "text/plain": [
       "21.0415416667"
      ]
     },
     "execution_count": 12,
     "metadata": {},
     "output_type": "execute_result"
    }
   ],
   "source": [
    "81.0415416667 % 60"
   ]
  },
  {
   "cell_type": "markdown",
   "id": "a5c443cf-36eb-4ff5-b30a-dec0505f8eb7",
   "metadata": {},
   "source": [
    "So the difference in song length between the two artists is 1 minute and 21.0415416667 seconds- For future reference, I will now convert their durations into seconds."
   ]
  },
  {
   "cell_type": "code",
   "execution_count": 13,
   "id": "b0df1a28-415e-4731-93db-05e0c56aab72",
   "metadata": {},
   "outputs": [],
   "source": [
    "Uzi_Minutes = (Uzi_Duration / 1000) / 60\n",
    "Travis_Minutes = (Travis_Duration / 1000) / 60"
   ]
  },
  {
   "cell_type": "code",
   "execution_count": 14,
   "id": "9991c760-d174-47ca-836e-4d7bb118e505",
   "metadata": {},
   "outputs": [
    {
     "data": {
      "text/plain": [
       "3.1327729166666667"
      ]
     },
     "execution_count": 14,
     "metadata": {},
     "output_type": "execute_result"
    }
   ],
   "source": [
    "Uzi_Minutes"
   ]
  },
  {
   "cell_type": "code",
   "execution_count": 15,
   "id": "5a28b260-1067-40b8-9aac-59f54b83e515",
   "metadata": {},
   "outputs": [
    {
     "data": {
      "text/plain": [
       "4.483465277777778"
      ]
     },
     "execution_count": 15,
     "metadata": {},
     "output_type": "execute_result"
    }
   ],
   "source": [
    "Travis_Minutes"
   ]
  },
  {
   "cell_type": "markdown",
   "id": "af0138c0-f7f9-4972-8697-ca972a789e1b",
   "metadata": {},
   "source": [
    "# Average popularity Score:\n",
    "Now, I'll check the average ranking of each artist's songs."
   ]
  },
  {
   "cell_type": "code",
   "execution_count": 16,
   "id": "f9e99fff-8d2a-4ecc-864f-63f74c5f96ad",
   "metadata": {},
   "outputs": [
    {
     "data": {
      "text/plain": [
       "79.25"
      ]
     },
     "execution_count": 16,
     "metadata": {},
     "output_type": "execute_result"
    }
   ],
   "source": [
    "Uzi_Score = Uzi_Only['Popularity'].mean()\n",
    "Uzi_Score"
   ]
  },
  {
   "cell_type": "code",
   "execution_count": 17,
   "id": "f47ead0a-2bd2-4f0c-84e5-1bf4758d7c3b",
   "metadata": {},
   "outputs": [
    {
     "data": {
      "text/plain": [
       "87.0"
      ]
     },
     "execution_count": 17,
     "metadata": {},
     "output_type": "execute_result"
    }
   ],
   "source": [
    "Travis_Score = Travis_Only['Popularity'].mean()\n",
    "Travis_Score"
   ]
  },
  {
   "cell_type": "code",
   "execution_count": 18,
   "id": "0cd73365-4804-40f7-a72f-b377b2d88e54",
   "metadata": {},
   "outputs": [
    {
     "data": {
      "text/plain": [
       "7.75"
      ]
     },
     "execution_count": 18,
     "metadata": {},
     "output_type": "execute_result"
    }
   ],
   "source": [
    "87.0 - 79.25"
   ]
  },
  {
   "cell_type": "markdown",
   "id": "a792240a-e5bb-4523-a4f2-ce67ef4ae721",
   "metadata": {},
   "source": [
    "We can see that on average, Travis Scott on average has a popularity score that is almost 8 more than Lil Uzi Vert. Right now, it's safe to say Travis is a bit more popular, but can his song lengths play a role in this?"
   ]
  },
  {
   "cell_type": "markdown",
   "id": "9c49755d-ee54-4792-ac79-2b25df7d0bbc",
   "metadata": {},
   "source": [
    "# What can we take away from this so far?"
   ]
  },
  {
   "cell_type": "markdown",
   "id": "4846dac4-edb8-4597-9b38-1465f2d8fffe",
   "metadata": {},
   "source": [
    "Based on my findings, we can see that Travis Scott, with the longer music, is slightly above Lil Uzi Vert in terms of popularity. Perhaps I could guess that Hip-Hop fans tend to prefer longer songs that possibly imply them having more depth than shorter ones, therefore making it more enjoyable. However, this is just a conclusion made from \"eyeballing\" the data alone, so more work will be needed."
   ]
  },
  {
   "cell_type": "markdown",
   "id": "0de8124b-09a8-429b-ae7f-a59088886ddc",
   "metadata": {},
   "source": [
    "# Visualization using seaborn:"
   ]
  },
  {
   "cell_type": "code",
   "execution_count": 19,
   "id": "45fd811c-62ce-48c9-805c-5888e152231b",
   "metadata": {},
   "outputs": [
    {
     "name": "stderr",
     "output_type": "stream",
     "text": [
      "/opt/conda/envs/anaconda-2024.02-py310/lib/python3.10/site-packages/seaborn/_oldcore.py:1765: FutureWarning: unique with argument that is not not a Series, Index, ExtensionArray, or np.ndarray is deprecated and will raise in a future version.\n",
      "  order = pd.unique(vector)\n"
     ]
    },
    {
     "data": {
      "text/plain": [
       "Text(0, 0.5, 'Minutes')"
      ]
     },
     "execution_count": 19,
     "metadata": {},
     "output_type": "execute_result"
    },
    {
     "data": {
      "image/png": "[encoded data removed]",
      "text/plain": [
       "<Figure size 640x480 with 1 Axes>"
      ]
     },
     "metadata": {},
     "output_type": "display_data"
    }
   ],
   "source": [
    "sns.barplot(x=['Lil Uzi Vert', 'Travis Scott'], y=[Uzi_Minutes, Travis_Minutes], data=Uzi_v_Travis)\n",
    "plt.title('Average Lil Uzi Vert and Travis Scott song lengths')\n",
    "plt.xlabel('Artists')\n",
    "plt.ylabel('Minutes')"
   ]
  },
  {
   "cell_type": "code",
   "execution_count": 20,
   "id": "3a468e9c-6080-4c4f-8161-607b1489f3d7",
   "metadata": {},
   "outputs": [
    {
     "data": {
      "image/png": "[encoded data removed]",
      "text/plain": [
       "<Figure size 1000x600 with 1 Axes>"
      ]
     },
     "metadata": {},
     "output_type": "display_data"
    }
   ],
   "source": [
    "plt.figure(figsize=(10, 6))\n",
    "plt.scatter(\n",
    "                x=filtered['Duration (ms)'] / 1000,\n",
    "                y=filtered['Popularity'],\n",
    "                c=filtered['Artist'].map({'Lil Uzi Vert': 'purple', 'Travis Scott': 'Red'}),\n",
    ")\n",
    "plt.title(\"Song Duration vs. Popularity Score\")\n",
    "plt.xlabel(\"Duration (seconds)\")\n",
    "plt.ylabel(\"Popularity Score\")\n",
    "plt.grid(True)\n",
    "plt.show()"
   ]
  },
  {
   "cell_type": "markdown",
   "id": "3c91971d-d641-4d87-8e77-ef8f544746c5",
   "metadata": {},
   "source": [
    "# Using statistics to come to a conclusion:"
   ]
  },
  {
   "cell_type": "markdown",
   "id": "b489541a-ebf1-42ec-a62d-58e399822c0f",
   "metadata": {},
   "source": [
    "Since I am attempting to see if there is a relationship between two variables (Song length and popularity), I will be utilizing Spearman's rank correlation coefficient in order to see whether one variable increases as another does or not- A monotonic relationship."
   ]
  },
  {
   "cell_type": "code",
   "execution_count": 21,
   "id": "cf4e8342-2366-4631-a715-c013f914e13e",
   "metadata": {},
   "outputs": [],
   "source": [
    "from scipy.stats import spearmanr  "
   ]
  },
  {
   "cell_type": "code",
   "execution_count": 22,
   "id": "ed79c8ac-da55-49f3-980b-5f06f83271a8",
   "metadata": {},
   "outputs": [
    {
     "name": "stdout",
     "output_type": "stream",
     "text": [
      "Rho: 0.11, p-value: 0.6361\n"
     ]
    }
   ],
   "source": [
    "correlation, p_value = spearmanr(filtered['Duration (ms)'], filtered['Popularity'])  \n",
    "print(f\"Rho: {correlation:.2f}, p-value: {p_value:.4f}\") "
   ]
  },
  {
   "cell_type": "markdown",
   "id": "093d99c8-ecc3-4abf-a4c3-d5db26d00b53",
   "metadata": {},
   "source": [
    "As you can see, I rounded the correlation to 2 decimal places, and the p value to 4 for readability and to follow common styles in statistics."
   ]
  },
  {
   "cell_type": "markdown",
   "id": "014909e8-b588-485c-92ab-76964a0a457d",
   "metadata": {},
   "source": [
    "# What do these results mean?"
   ]
  },
  {
   "cell_type": "markdown",
   "id": "55582b5c-e88c-412e-af2d-3f69d4ffa4ec",
   "metadata": {},
   "source": [
    "Rho is 0.11, close to 0, implying that the duration of songs has a weak effect on an its popularity. The p-value is also greater than 0.05, meaning that the result wasn't statistically significant. It's safe to say that based on this test, we **fail** to reject the null hypothesis in that song length does not affect popularity."
   ]
  },
  {
   "cell_type": "markdown",
   "id": "052b17ba-8ead-4cc9-a77b-14a8204b8fd3",
   "metadata": {},
   "source": [
    "# Closing Thoughts:"
   ]
  },
  {
   "cell_type": "markdown",
   "id": "6c4c36f2-81de-4a97-9e47-569472e05d58",
   "metadata": {},
   "source": [
    "In this short project, I learned to filter the data of two specific categorical variables (The artists) and preform basic mathematical operations on its data in order to then make visualizations with it, using matplotlib and seaborn. \n",
    "\n",
    "With the filtered data, I also used scipy.stats to conduct Spearman's rank correlation to check whether I should reject or fail to reject my null hypothesis, to which I found out I should fail to reject.\n",
    "\n",
    "After examining the results, it was safe to say that *despite* Travis Scott's songs being longer and more popular than Lil Uzi Vert's, **the longer songs did not have any relationship with its popularity**. It is important to realize that \"eyeballing\" data simply isn't enough to come to a conclusion, and that statistical testing should be used."
   ]
  }
 ],
 "metadata": {
  "kernelspec": {
   "display_name": "anaconda-2024.02-py310",
   "language": "python",
   "name": "conda-env-anaconda-2024.02-py310-py"
  },
  "language_info": {
   "codemirror_mode": {
    "name": "ipython",
    "version": 3
   },
   "file_extension": ".py",
   "mimetype": "text/x-python",
   "name": "python",
   "nbconvert_exporter": "python",
   "pygments_lexer": "ipython3",
   "version": "3.10.14"
  }
 },
 "nbformat": 4,
 "nbformat_minor": 5
}
